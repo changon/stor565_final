{
 "cells": [
  {
   "cell_type": "code",
   "execution_count": 1,
   "metadata": {},
   "outputs": [],
   "source": [
    "import pandas as pd\n",
    "from sklearn.model_selection import train_test_split\n",
    "import numpy as np"
   ]
  },
  {
   "cell_type": "code",
   "execution_count": 2,
   "metadata": {},
   "outputs": [],
   "source": [
    "df = pd.read_csv('tokenized text data2.csv')\n",
    "# asTuples = list(pros.itertuples(index=False, name=None))\n",
    "#train, test = train_test_split(asTuples, test_size=0.2, random_state=42)\n",
    "#classifier = nltk.NaiveBayesClassifier.train(train)\n",
    "# print(classifier.classify(test['tokenized_pros']))"
   ]
  },
  {
   "cell_type": "code",
   "execution_count": 24,
   "metadata": {},
   "outputs": [],
   "source": [
    "a = df[df['company'] == 'google'].sample(100)\n",
    "b = df[df['company'] == 'netflix'].sample(100)\n",
    "c = df[df['company'] == 'amazon'].sample(100)\n",
    "d = df[df['company'] == 'facebook'].sample(100)\n",
    "e = df[df['company'] == 'microsoft'].sample(100)\n",
    "f = df[df['company'] == 'google'].sample(100)\n",
    "#pros = df.loc[:, ['company','tokenized_pros']]\n",
    "\n",
    "sample = pd.concat([a, b, d, d, e, f])\n",
    "\n",
    "train, test = train_test_split(sample.loc[:,['tokenized_pros','company']], test_size=0.2, random_state=42, stratify=sample['company'])"
   ]
  },
  {
   "cell_type": "code",
   "execution_count": 25,
   "metadata": {},
   "outputs": [],
   "source": [
    "train.to_csv('sample_train_tokens.csv')\n",
    "test.to_csv('sample_test_tokens.csv')"
   ]
  },
  {
   "cell_type": "code",
   "execution_count": null,
   "metadata": {},
   "outputs": [],
   "source": []
  }
 ],
 "metadata": {
  "kernelspec": {
   "display_name": "Python 3",
   "language": "python",
   "name": "python3"
  },
  "language_info": {
   "codemirror_mode": {
    "name": "ipython",
    "version": 3
   },
   "file_extension": ".py",
   "mimetype": "text/x-python",
   "name": "python",
   "nbconvert_exporter": "python",
   "pygments_lexer": "ipython3",
   "version": "3.6.5"
  }
 },
 "nbformat": 4,
 "nbformat_minor": 2
}
